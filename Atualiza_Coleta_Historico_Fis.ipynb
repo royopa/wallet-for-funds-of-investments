{
  "nbformat": 4,
  "nbformat_minor": 0,
  "metadata": {
    "accelerator": "TPU",
    "colab": {
      "name": "Atualiza Coleta_Historico_Fis.ipynb",
      "provenance": [],
      "collapsed_sections": [],
      "machine_shape": "hm",
      "mount_file_id": "1aUNGsyPGftOcXHKZN_mVfDPelB-hUqqE",
      "authorship_tag": "ABX9TyOKv9zdDIQgBxIJznWRPvVw",
      "include_colab_link": true
    },
    "kernelspec": {
      "display_name": "Python 3",
      "name": "python3"
    },
    "language_info": {
      "name": "python"
    }
  },
  "cells": [
    {
      "cell_type": "markdown",
      "metadata": {
        "id": "view-in-github",
        "colab_type": "text"
      },
      "source": [
        "<a href=\"https://colab.research.google.com/github/ohmkas/Carteira-Quant-FI/blob/main/Atualiza_Coleta_Historico_Fis.ipynb\" target=\"_parent\"><img src=\"https://colab.research.google.com/assets/colab-badge.svg\" alt=\"Open In Colab\"/></a>"
      ]
    },
    {
      "cell_type": "code",
      "metadata": {
        "colab": {
          "base_uri": "https://localhost:8080/"
        },
        "id": "bvf8LGU8OG9a",
        "outputId": "f20bd4a7-3720-40d8-f1a5-d1086aef7bf8"
      },
      "source": [
        "import os\n",
        "import numpy as np\n",
        "import pandas as pd\n",
        "from datetime import date, datetime, timedelta\n",
        "\n",
        "def salvar(nome_pasta=str): \n",
        "  if not os.path.exists(\"/content/sample_data/\"+nome_pasta): \n",
        "      os.mkdir(\"/content/sample_data/\"+nome_pasta) \n",
        "  caminho = str(\"/content/sample_data/\"+nome_pasta) \n",
        "  print('os arquivos serão salvos em:',caminho)\n",
        "  return(caminho)\n",
        "\n",
        "salvar_em = salvar(nome_pasta='Carteira Quant')\n",
        "\n",
        "def consultar_dados_historicos_cvm(inicio_da_coleta=str):\n",
        "  datas = pd.date_range(inicio_da_coleta, date.today(), freq='MS') \n",
        "  serie_historica_completa = pd.DataFrame() \n",
        " \n",
        "  for data in datas:\n",
        "    try:\n",
        "      \n",
        "      url ='http://dados.cvm.gov.br/dados/FI/DOC/INF_DIARIO/DADOS/inf_diario_fi_{}{:02}.csv'.format(data.year, data.month)\n",
        "      print('requisitando download: ',url)\n",
        "      \n",
        "      serie_historica_parcial = pd.read_csv(url, sep=';')  \n",
        "      serie_historica_completa = pd.concat([serie_historica_completa, serie_historica_parcial], ignore_index=True) \n",
        "\n",
        "  \n",
        "    except: \n",
        "      print(\"Arquivo {} não encontrado!\".format(url))    \n",
        " \n",
        "  serie_historica_completa = serie_historica_completa.groupby(['CNPJ_FUNDO','DT_COMPTC']).last()\n",
        "  return(serie_historica_completa)\n",
        "\n",
        "data_inicial = (date.today() - timedelta(30)).strftime('%Y-%m')\n",
        "\n",
        "serie_historica_fis = consultar_dados_historicos_cvm(inicio_da_coleta=data_inicial)\n",
        "\n",
        "serie_historica_fis.to_csv('/content/sample_data/Carteira Quant/serie_historica_fis.csv',index=True)\n",
        "\n",
        "print('série histórica dos Fis coletada com sucesso. Salvo em ',salvar_em)"
      ],
      "execution_count": null,
      "outputs": [
        {
          "output_type": "stream",
          "name": "stdout",
          "text": [
            "os arquivos serão salvos em: /content/sample_data/Carteira Quant\n",
            "Insira a data inicial da coleta, respeite o formato YYYY-MM: 2021-08\n",
            "requisitando download:  http://dados.cvm.gov.br/dados/FI/DOC/INF_DIARIO/DADOS/inf_diario_fi_202108.csv\n",
            "requisitando download:  http://dados.cvm.gov.br/dados/FI/DOC/INF_DIARIO/DADOS/inf_diario_fi_202109.csv\n",
            "requisitando download:  http://dados.cvm.gov.br/dados/FI/DOC/INF_DIARIO/DADOS/inf_diario_fi_202110.csv\n",
            "série histórica dos Fis coletada com sucesso. Salvo em  /content/sample_data/Carteira Quant\n"
          ]
        }
      ]
    }
  ]
}