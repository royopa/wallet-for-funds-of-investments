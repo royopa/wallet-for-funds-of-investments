{
  "nbformat": 4,
  "nbformat_minor": 0,
  "metadata": {
    "colab": {
      "name": "Enviar Relatorio Email Solicitante.ipynb",
      "provenance": [],
      "collapsed_sections": [],
      "mount_file_id": "1nJXpWCk-OemZ-0VrguzbSJfnu8GU3ciC",
      "authorship_tag": "ABX9TyMce2XVdNsJJRFkywgGHNCO",
      "include_colab_link": true
    },
    "kernelspec": {
      "name": "python3",
      "display_name": "Python 3"
    },
    "language_info": {
      "name": "python"
    }
  },
  "cells": [
    {
      "cell_type": "markdown",
      "metadata": {
        "id": "view-in-github",
        "colab_type": "text"
      },
      "source": [
        "<a href=\"https://colab.research.google.com/github/ohmkas/Carteira-Quant-FI/blob/main/Enviar_Relatorio_Email_Solicitante.ipynb\" target=\"_parent\"><img src=\"https://colab.research.google.com/assets/colab-badge.svg\" alt=\"Open In Colab\"/></a>"
      ]
    },
    {
      "cell_type": "code",
      "metadata": {
        "id": "Q1rGhtAjbU11"
      },
      "source": [
        "import smtplib\n",
        "from email.mime.multipart import MIMEMultipart\n",
        "from email.mime.text import MIMEText\n",
        "from email.mime.base import MIMEBase\n",
        "from email import encoders"
      ],
      "execution_count": null,
      "outputs": []
    },
    {
      "cell_type": "code",
      "metadata": {
        "id": "wVYT28UUdDik"
      },
      "source": [
        "def login():\n",
        "  execfile(\"/content/drive/MyDrive/Colab Notebooks/Carteira Quant/Gera Carteiras Dia/login_email.py\")\n",
        "  return (None)"
      ],
      "execution_count": null,
      "outputs": []
    },
    {
      "cell_type": "code",
      "metadata": {
        "id": "N3F8iittvLQM"
      },
      "source": [
        "def gerar_relatorios():\n",
        "  execfile(\"/content/drive/MyDrive/Colab Notebooks/Carteira Quant/Gera Carteiras Dia/gerar_relatório.py\")\n",
        "  return (None)"
      ],
      "execution_count": null,
      "outputs": []
    },
    {
      "cell_type": "code",
      "metadata": {
        "colab": {
          "base_uri": "https://localhost:8080/"
        },
        "id": "_YNhn1Rivc2-",
        "outputId": "9e861e6c-afc9-4ef3-8e5f-74bb66e8d8db"
      },
      "source": [
        "gerar_relatorios()"
      ],
      "execution_count": null,
      "outputs": [
        {
          "output_type": "stream",
          "name": "stdout",
          "text": [
            "os arquivos serão salvos em: /content/sample_data/Clientes do Dia\n",
            "Foram encontrados 2189 fundos da sua instituição\n",
            "os arquivos serão salvos em: /content/sample_data/Clientes do Dia\n",
            "os arquivos serão salvos em: /content/sample_data/Clientes do Dia\n",
            "os arquivos serão salvos em: /content/sample_data/Etapa Final\n",
            "os arquivos serão salvos em: /content/sample_data/Etapa Final/Relatorio\n"
          ]
        }
      ]
    },
    {
      "cell_type": "code",
      "metadata": {
        "id": "BB5iQAiwdY1U"
      },
      "source": [
        "login()"
      ],
      "execution_count": null,
      "outputs": []
    },
    {
      "cell_type": "code",
      "metadata": {
        "id": "tu-h96ClcPR8"
      },
      "source": [
        "# Configuração\n",
        "host = 'smtp.gmail.com'\n",
        "port = 587\n",
        "\n"
      ],
      "execution_count": null,
      "outputs": []
    },
    {
      "cell_type": "code",
      "metadata": {
        "colab": {
          "base_uri": "https://localhost:8080/"
        },
        "id": "bkA91MYbcRDO",
        "outputId": "75dcf1bd-f306-4725-cb99-67e937573aa7"
      },
      "source": [
        "# Criando objeto\n",
        "print('Criando objeto servidor...')\n",
        "server = smtplib.SMTP(host, port)"
      ],
      "execution_count": null,
      "outputs": [
        {
          "output_type": "stream",
          "name": "stdout",
          "text": [
            "Criando objeto servidor...\n"
          ]
        }
      ]
    },
    {
      "cell_type": "code",
      "metadata": {
        "colab": {
          "base_uri": "https://localhost:8080/"
        },
        "id": "NNchSmaaeZDj",
        "outputId": "250039cb-240f-4719-e807-486ebe303a5e"
      },
      "source": [
        "# Login com servidor\n",
        "print('Login...')\n",
        "server.ehlo()\n",
        "server.starttls()\n",
        "server.login(user, password)"
      ],
      "execution_count": null,
      "outputs": [
        {
          "output_type": "stream",
          "name": "stdout",
          "text": [
            "Login...\n"
          ]
        },
        {
          "output_type": "execute_result",
          "data": {
            "text/plain": [
              "(235, b'2.7.0 Accepted')"
            ]
          },
          "metadata": {},
          "execution_count": 10
        }
      ]
    },
    {
      "cell_type": "code",
      "metadata": {
        "colab": {
          "base_uri": "https://localhost:8080/"
        },
        "id": "v2FPU3mkkQb2",
        "outputId": "2c39a2f4-0517-4f03-cee0-c8932399363b"
      },
      "source": [
        "for email in cnpjs_clientes:\n",
        "  email_msg = MIMEMultipart()\n",
        "  email_msg['From'] = user\n",
        "  email_msg['To'] = email\n",
        "  email_msg['Subject'] = 'FIs selecionados'\n",
        "\n",
        "  message_html = '''\n",
        "  <html>\n",
        "    <head>\n",
        "\n",
        "    </head>\n",
        "\n",
        "    <body>\n",
        "    <h2> Seus fundos de investimento chegaram!</h2>\n",
        "      <div>\n",
        "        <p> Olá, ficamos felizes em saber que você está buscando um futuro melhor através dos investimentos.</p>\n",
        "        </n>\n",
        "        <p>Lembrando que esse informativo não é uma recomendação de investimento. O principal objetivo dessa ferramenta é o fácil descobrimento dos fundos de investimento disponíveis na sua instituição financeira.</p>\n",
        "        </n>\n",
        "        <p>Consulte um especialista.</p>\n",
        "        </n>\n",
        "        <p>Att, Rodrigo Jovê.<p>\n",
        "      </div>\n",
        "\n",
        "\n",
        "    </body>\n",
        "  </html>\n",
        "  '''\n",
        "  email_msg.attach(MIMEText(message_html, 'html'))\n",
        "\n",
        "\n",
        "  filename = str(email+'.docx')\n",
        "  filepath = '/content/sample_data/Etapa Final/Relatorio/'+email+'.docx'\n",
        "  attachment = open(filepath, 'rb')\n",
        "\n",
        "  att = MIMEBase('application', 'octet-stream')\n",
        "  att.set_payload(attachment.read())\n",
        "  encoders.encode_base64(att)\n",
        "\n",
        "  att.add_header('Content-Disposition', f'attachment; filename= {filename}')\n",
        "  attachment.close()\n",
        "  email_msg.attach(att)\n",
        "\n",
        "\n",
        "# Enviando mensagem\n",
        "  print('Enviando mensagem...')\n",
        "  server.sendmail(email_msg['From'], email_msg['To'], email_msg.as_string())\n",
        "  print('Mensagem enviada!')\n"
      ],
      "execution_count": null,
      "outputs": [
        {
          "output_type": "stream",
          "name": "stdout",
          "text": [
            "Enviando mensagem...\n",
            "Mensagem enviada!\n"
          ]
        }
      ]
    },
    {
      "cell_type": "code",
      "metadata": {
        "colab": {
          "base_uri": "https://localhost:8080/"
        },
        "id": "3z-E4jtklQHc",
        "outputId": "045dd330-f98d-4373-b191-ebbadc340bfb"
      },
      "source": [
        "server.quit()"
      ],
      "execution_count": null,
      "outputs": [
        {
          "output_type": "execute_result",
          "data": {
            "text/plain": [
              "(221, b'2.0.0 closing connection gf23sm12124859pjb.26 - gsmtp')"
            ]
          },
          "metadata": {},
          "execution_count": 12
        }
      ]
    }
  ]
}