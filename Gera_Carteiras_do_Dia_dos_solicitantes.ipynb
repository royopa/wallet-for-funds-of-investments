{
  "nbformat": 4,
  "nbformat_minor": 0,
  "metadata": {
    "colab": {
      "name": "Gera Carteiras do Dia dos solicitantes.ipynb",
      "provenance": [],
      "mount_file_id": "1W-sAoA54krtKAwiPfAy4jR2t0KarCmAM",
      "authorship_tag": "ABX9TyMz5/Y4lfmsxdVQOledo8kY",
      "include_colab_link": true
    },
    "kernelspec": {
      "name": "python3",
      "display_name": "Python 3"
    },
    "language_info": {
      "name": "python"
    }
  },
  "cells": [
    {
      "cell_type": "markdown",
      "metadata": {
        "id": "view-in-github",
        "colab_type": "text"
      },
      "source": [
        "<a href=\"https://colab.research.google.com/github/ohmkas/Carteira-Quant-FI/blob/main/Gera_Carteiras_do_Dia_dos_solicitantes.ipynb\" target=\"_parent\"><img src=\"https://colab.research.google.com/assets/colab-badge.svg\" alt=\"Open In Colab\"/></a>"
      ]
    },
    {
      "cell_type": "code",
      "metadata": {
        "id": "rLfilCGdNKNd"
      },
      "source": [
        "import pandas as pd\n",
        "import numpy as np\n",
        "from datetime import datetime, date, timedelta"
      ],
      "execution_count": null,
      "outputs": []
    },
    {
      "cell_type": "code",
      "metadata": {
        "colab": {
          "base_uri": "https://localhost:8080/"
        },
        "id": "SsKgZEp7sSFc",
        "outputId": "f8037bde-2720-4013-ed46-6675b8a2e295"
      },
      "source": [
        "def filtrar_if_ofertante():\n",
        "  execfile(\"/content/drive/MyDrive/Colab Notebooks/Carteira Quant/filtrar_instituição_financeira.py\")\n",
        "  return (None)\n",
        "\n",
        "filtrar_if_ofertante()\n",
        "try:\n",
        "  with open('/content/sample_data/Clientes do Dia/controle.json', 'rb') as fp:\n",
        "    cnpjs_clientes = pickle.load(fp)\n",
        "except:\n",
        "  pass\n",
        "\n",
        "def consulta_solicitantes():\n",
        "  execfile(\"/content/drive/MyDrive/Colab Notebooks/Carteira Quant/consulta_aos_solicitantes.py\")\n",
        "  return (None)\n",
        "\n",
        "consulta_solicitantes()\n",
        "\n",
        "clientes_dia = pd.read_csv('/content/sample_data/Clientes do Dia/Clientes_do_Dia.csv')\n",
        "\n",
        "if clientes_dia.columns[0] == 'Unnamed: 0':\n",
        "    clientes_dia = clientes_dia.T\n",
        "    clientes_dia.columns = clientes_dia.iloc[0]\n",
        "    clientes_dia = clientes_dia.iloc[1:]\n",
        "    clientes_dia.index.name = 'Carimbo de data/hora'\n",
        "else:\n",
        "  pass  \n",
        "\n",
        "clientes_dia = clientes_dia.set_index('Endereço de e-mail')\n",
        "\n",
        "clientes_dia['Em quanto o tempo você espera alcançar esse objetivo?'] = clientes_dia['Em quanto o tempo você espera alcançar esse objetivo?'].str.split(' ',expand=True)[0]\n",
        "\n",
        "clientes_dia['Qual o valor máximo de perdas que toleraria num curto prazo?'] = clientes_dia['Qual o valor máximo de perdas que toleraria num curto prazo?'].str.split('%',expand=True)[0].replace(['Nada, não quero nenhum risco nos meus investimentos'],0)\n",
        "\n",
        "def coleta_dados_bc(codigo_bcb): #função que coleta dados do Banco Central\n",
        "    url = 'http://api.bcb.gov.br/dados/serie/bcdata.sgs.{}/dados?formato=json'.format(codigo_bcb)\n",
        "    df = pd.read_json(url)\n",
        "    df['data'] = pd.to_datetime(df['data'], dayfirst=True)\n",
        "    df.set_index('data', inplace=True)\n",
        "    return (df)\n",
        " \n",
        "#https://www3.bcb.gov.br/sgspub/consultarvalores/telaCvsSelecionarSeries.paint\n",
        "\n",
        "cdi_graf = coleta_dados_bc(12)\n",
        "cdi = cdi_graf.loc[(date.today()-timedelta(252)).strftime(\"%Y-%m\"):]\n",
        "\n",
        "\n",
        "def salvar(nome_pasta=str): #Cria ess pasta caso ela não exista ou simplemente já deixa o caminho da pasta pronto\n",
        "  if not os.path.exists(\"/content/sample_data/\"+nome_pasta): \n",
        "    os.mkdir(\"/content/sample_data/\"+nome_pasta) \n",
        "  caminho = str(\"/content/sample_data/\"+nome_pasta) \n",
        "  print('os arquivos serão salvos em:',caminho)\n",
        "  return(caminho)\n",
        "\n",
        "salvar_em = salvar(nome_pasta='Etapa Final')\n",
        "\n",
        "\n",
        "controle_parcela = {}\n",
        "i = float(((1+(cdi/100)).rolling(22).apply(np.prod)-1).iloc[-1].values) #juros mensal\n",
        "for cliente in clientes_dia.index:\n",
        "  \n",
        "  n = float(clientes_dia.loc[cliente]['Em quanto o tempo você espera alcançar esse objetivo?'])\n",
        "  FFV = (((1+i)**n)-1)/i\n",
        "  PMTt = float(clientes_dia.loc[cliente]['Qual o valor do seu objetivo?'])/FFV\n",
        "  \n",
        "  PMTr = float(clientes_dia.loc[cliente]['Quanto você investirá por mês?'])\n",
        "\n",
        "  dif = PMTr-PMTt\n",
        "\n",
        "  if PMTt >  PMTr:\n",
        "    aux = {cliente:'objetivo não será alcançado. É preciso aumentar a parcela em '+str(round(dif,2)*-1)+\n",
        "                             ' reais, ou seja, você precisa contribuir '+str(round(PMTt,2))+' reais.'}\n",
        "    \n",
        "  else:\n",
        "    aux = {cliente:'objetivo será alcançado com folga de '+str(round(dif,2))+' reais. A parcela mínima necessária para você alcançar seu objettivo é '+str(round(PMTt,2))+' reais.'}\n",
        "\n",
        "  controle_parcela.update(aux)\n",
        "\n",
        "  with open(salvar_em+'/meta_parcela.json', 'wb') as fp:\n",
        "    pickle.dump(controle_parcela, fp)\n",
        "\n"
      ],
      "execution_count": null,
      "outputs": [
        {
          "output_type": "stream",
          "name": "stdout",
          "text": [
            "os arquivos serão salvos em: /content/sample_data/Clientes do Dia\n",
            "Foram encontrados 1356 fundos da sua instituição\n",
            "Foram encontrados 4919 fundos da sua instituição\n",
            "Foram encontrados 2189 fundos da sua instituição\n",
            "os arquivos serão salvos em: /content/sample_data/Clientes do Dia\n",
            "os arquivos serão salvos em: /content/sample_data/Clientes do Dia\n",
            "os arquivos serão salvos em: /content/sample_data/Etapa Final\n"
          ]
        }
      ]
    },
    {
      "cell_type": "markdown",
      "metadata": {
        "id": "DBUrD5D3Msiq"
      },
      "source": [
        "#objetivo é alcançável?"
      ]
    },
    {
      "cell_type": "code",
      "metadata": {
        "id": "J9YEn7MjC78X"
      },
      "source": [
        "base_historico = pd.read_csv(\"/content/drive/MyDrive/Colab Notebooks/Carteira Quant/Base Dados/Base_Original.csv\",index_col=1)"
      ],
      "execution_count": null,
      "outputs": []
    },
    {
      "cell_type": "code",
      "metadata": {
        "id": "GORinjT_k2u7"
      },
      "source": [
        "cnpjs_mais500 = base_historico.loc[base_historico['DT_COMPTC'] == base_historico['DT_COMPTC'].drop_duplicates()[-2]].loc[base_historico.loc[base_historico['DT_COMPTC'] == base_historico['DT_COMPTC'].drop_duplicates()[-2]]['NR_COTST'] > 500].index\n",
        "base_historico = base_historico.loc[cnpjs_mais500]"
      ],
      "execution_count": null,
      "outputs": []
    },
    {
      "cell_type": "code",
      "metadata": {
        "id": "dZYM8f3WHYd5"
      },
      "source": [
        "cadastrais = pd.read_csv(\"/content/drive/MyDrive/Colab Notebooks/Carteira Quant/Base Dados/base_cliente.csv\",\n",
        "                         low_memory=False,index_col=0)"
      ],
      "execution_count": null,
      "outputs": []
    },
    {
      "cell_type": "code",
      "metadata": {
        "id": "lqxvsQUzIkQu"
      },
      "source": [
        "bases_consulta = {}\n",
        "for cliente in clientes_dia.index:\n",
        "  contidos = []\n",
        "  for cnpj in cnpjs_clientes[cliente]:\n",
        "    if cnpj[0] in cadastrais.index:\n",
        "      \n",
        "      contidos.append(cnpj[0])\n",
        "    else:\n",
        "      pass\n",
        "    \n",
        "  df_aux = cadastrais.loc[contidos]\n",
        "\n",
        "  df_aux = df_aux.loc[df_aux['INVEST_INICIAL_MIN'] < float(clientes_dia.loc[cliente]['Quanto você investirá por mês?'])]\n",
        "  df_aux = df_aux.loc[df_aux['SIT'] != 'CANCELADA']\n",
        "  df_aux = df_aux.loc[df_aux['INVEST_QUALIF'] != 'S']\n",
        "  \n",
        "  categoria = clientes_dia.loc[cliente]['Em qual categoria o seu objetivo mais se enquadra?']\n",
        "  if categoria == 'Aposentadoria':\n",
        "    df_aux = df_aux.loc[df_aux['PUBLICO_ALVO'] == 'PREVIDENCIÁRIO']\n",
        "  \n",
        "  else:\n",
        "    pass\n",
        "  \n",
        "  try:\n",
        "    fis = base_historico.loc[df_aux.index].groupby(['CNPJ_FUNDO','DT_COMPTC']).mean()['VL_QUOTA']\n",
        "  \n",
        "  except:\n",
        "    contidos = []\n",
        "    for cnpj in df_aux.index:\n",
        "      if cnpj in (base_historico.index):\n",
        "        contidos.append(cnpj)\n",
        "      else:\n",
        "        pass\n",
        "    \n",
        "    fis = base_historico.loc[contidos].groupby(['CNPJ_FUNDO','DT_COMPTC']).mean()['VL_QUOTA']\n",
        "  \n",
        "  valor_quota = pd.DataFrame()\n",
        "  for fundo in fis.index.get_level_values(0).drop_duplicates():\n",
        "    valor_quota[fundo] = fis.loc[fundo]\n",
        "  \n",
        "\n",
        "  valor_quota.index = pd.to_datetime(valor_quota.index)\n",
        "  \n",
        "  criterios = pd.DataFrame()\n",
        "\n",
        "  drawdowns = (1 - ((1+(valor_quota.pct_change())).cumprod()-1).div(((1+(valor_quota.pct_change())).cumprod()-1).cummax()))*-1 #gera o drawdown de cada fundo\n",
        "  \n",
        "  criterios['Drawdown Medio'] = drawdowns.mean()\n",
        "  \n",
        "  criterios['Drawdown CP'] = drawdowns.rolling(66).mean().mean()\n",
        "  \n",
        "  criterios['Sharpe'] = sharpe = (((1+(valor_quota.pct_change())).rolling(66).apply(np.prod)-1).mean() - ((1+(cdi['valor']/100)).rolling(66).apply(np.prod)-1).mean())/((1+(valor_quota.pct_change())).rolling(66).apply(np.prod)-1).std()\n",
        "    \n",
        "  criterios = criterios.loc[criterios['Drawdown CP'] > (int(clientes_dia.loc[cliente]['Qual o valor máximo de perdas que toleraria num curto prazo?'])/100)*-1]\n",
        "                                                                                \n",
        "  criterios = criterios.loc[criterios['Sharpe'] > 0]                           \n",
        "\n",
        "  criterios = criterios.loc[criterios['Drawdown CP'] > criterios['Drawdown CP'].median() ]\n",
        "\n",
        "  bases_consulta.update({cliente:valor_quota[criterios.index]})\n",
        "\n",
        "with open(salvar_em+'/CNPJS_SOLICITANTES.json', 'wb') as fp:\n",
        "  pickle.dump(bases_consulta, fp)"
      ],
      "execution_count": null,
      "outputs": []
    }
  ]
}