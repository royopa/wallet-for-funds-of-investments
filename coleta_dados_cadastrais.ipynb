{
  "nbformat": 4,
  "nbformat_minor": 0,
  "metadata": {
    "colab": {
      "name": "coleta_dados_cadastrais.ipynb",
      "provenance": [],
      "collapsed_sections": [],
      "authorship_tag": "ABX9TyOfqGLqTJdIEXA3pCoLZgK0",
      "include_colab_link": true
    },
    "kernelspec": {
      "name": "python3",
      "display_name": "Python 3"
    },
    "language_info": {
      "name": "python"
    }
  },
  "cells": [
    {
      "cell_type": "markdown",
      "metadata": {
        "id": "view-in-github",
        "colab_type": "text"
      },
      "source": [
        "<a href=\"https://colab.research.google.com/github/ohmkas/Carteira-Quant-FI/blob/main/coleta_dados_cadastrais.ipynb\" target=\"_parent\"><img src=\"https://colab.research.google.com/assets/colab-badge.svg\" alt=\"Open In Colab\"/></a>"
      ]
    },
    {
      "cell_type": "code",
      "metadata": {
        "colab": {
          "base_uri": "https://localhost:8080/"
        },
        "id": "1ga6GCJJ1m8q",
        "outputId": "3fe18b36-4b5b-4c0f-f02b-3e584af9c58c"
      },
      "source": [
        "import os\n",
        "from zipfile import ZipFile\n",
        "import requests, zipfile, io\n",
        "from os import chdir, getcwd, listdir\n",
        "import numpy as np\n",
        "import pandas as pd\n",
        "from datetime import date, datetime, timedelta\n",
        "import time\n",
        "from os import chdir,listdir\n",
        "\n",
        "def salvar(nome_pasta=str): #Cria ess pasta caso ela não exista ou simplemente já deixa o caminho da pasta pronto\n",
        "  if not os.path.exists(\"/content/sample_data/\"+nome_pasta): \n",
        "      os.mkdir(\"/content/sample_data/\"+nome_pasta) \n",
        "  caminho = str(\"/content/sample_data/\"+nome_pasta) \n",
        "  print('os arquivos serão salvos em:',caminho)\n",
        "  return(caminho)\n",
        "\n",
        "salvar_em = salvar(nome_pasta='Carteira Quant')\n",
        "\n",
        "inicio_coleta = (date.today()-timedelta(60)).strftime('%Y-%m')\n",
        "\n",
        "def consultar_dados_cadastrais_cvm():\n",
        "  dados_cadastrais = pd.read_csv('http://dados.cvm.gov.br/dados/FI/CAD/DADOS/cad_fi.csv', \n",
        "                       sep=';', encoding='ISO-8859-1',\n",
        "                       index_col='CNPJ_FUNDO',low_memory=False) \n",
        "                      \n",
        "  dados_cadastrais = dados_cadastrais.loc[dados_cadastrais['SIT'] != 'CANCELADA'] #apenas fundos ativos, em funcionamento\n",
        "  print('requisitando download : http://dados.cvm.gov.br/dados/FI/CAD/DADOS/cad_fi.csv')\n",
        "  return(dados_cadastrais)\n",
        "\n",
        "dados_cadastrais_fis = consultar_dados_cadastrais_cvm()\n",
        "\n",
        "def consultar_informações_cadastrais_específicos(link=str,\n",
        "                                                 nome_arquivo=str,\n",
        "                                                 nome_pasta=str,\n",
        "                                                 somente_ultimo_mês=True):\n",
        "  if somente_ultimo_mês==True:\n",
        "    período_coletado = (date.today()-timedelta(60)).strftime('%Y%m')\n",
        "    data = período_coletado\n",
        "    print('requisitando download : ',link+nome_arquivo+data+'.zip')\n",
        "    url = link+nome_arquivo+data+'.zip'\n",
        "    download = requests.get(url) \n",
        "    extração = zipfile.ZipFile(io.BytesIO(download.content))  \n",
        "    extração.extractall(salvar_em+'/'+nome_pasta)\n",
        "    caminho_pasta = salvar_em+'/'+nome_pasta\n",
        "\n",
        "\n",
        "  else:\n",
        "    período_coletado = pd.date_range(inicio_coleta, (date.today()-timedelta(60)).strftime('%Y%m'), freq='M')\n",
        "    for data in período_coletado:\n",
        "      data = data.strftime('%Y%m')\n",
        "      print('requisitando download : ',link+nome_arquivo+data+'.zip')\n",
        "      url = link+nome_arquivo+data+'.zip'\n",
        "      download = requests.get(url) \n",
        "      extração = zipfile.ZipFile(io.BytesIO(download.content))  \n",
        "      extração.extractall(salvar_em+'/'+nome_pasta)\n",
        "      caminho_pasta = salvar_em+'/'+nome_pasta\n",
        "  return (caminho_pasta)\n",
        "\n",
        "def ler_arquivo_específico(caminho_arquivo=str):\n",
        "  archive = pd.read_csv(caminho_arquivo,\n",
        "            sep=';', \n",
        "            encoding='ISO-8859-1',\n",
        "            error_bad_lines=False,\n",
        "            warn_bad_lines=False,\n",
        "            index_col='CNPJ_FUNDO')\n",
        "  return archive\n",
        "\n",
        "def arquivos_extraídos(funcao_consultar_informações_cadastrais_específicos):\n",
        "  arquivos_baixados = {}\n",
        "  chdir(funcao_consultar_informações_cadastrais_específicos)\n",
        "  for arquivo in listdir():\n",
        "    arquivo_lido = ler_arquivo_específico(arquivo)\n",
        "    arquivos_baixados.update({arquivo:arquivo_lido})\n",
        "  return(arquivos_baixados)\n",
        "  \n",
        "dados_lâmina_fis = arquivos_extraídos(consultar_informações_cadastrais_específicos(link='http://dados.cvm.gov.br/dados/FI/DOC/LAMINA/DADOS/',\n",
        "                                             nome_arquivo='lamina_fi_',\n",
        "                                             nome_pasta='lâmina_fi'),)\n",
        "dados_complementares_fis = ler_arquivo_específico('http://dados.cvm.gov.br/dados/FI/DOC/PERFIL_MENSAL/DADOS/perfil_mensal_fi_'+(date.today()-timedelta(60)).strftime('%Y%m')+'.csv')\n",
        "\n",
        "dados_extrato_fis = (ler_arquivo_específico('http://dados.cvm.gov.br/dados/FI/DOC/EXTRATO/DADOS/extrato_fi_'+(date.today()-timedelta(60)).strftime('%Y')+'.csv')).dropna(axis=1)\n",
        "\n",
        "dados_suplementares_fis = {'Cadastrais':dados_cadastrais_fis,\n",
        "                       'Lâmina': dados_lâmina_fis['lamina_fi_' + str((date.today()-timedelta(60)).strftime('%Y%m')) + '.csv'],\n",
        "                       'Lâmina Carteira':dados_lâmina_fis['lamina_fi_'+ str((date.today()-timedelta(60)).strftime('%Y%m'))+ '.csv'], #inserir aqui a lamina segregada lamina[tal] e outra chave para outra lamina[tal]\n",
        "                       'Extrato': dados_extrato_fis,\n",
        "                       'Complementares': dados_complementares_fis}\n",
        "\n",
        "for key in dados_suplementares_fis:\n",
        "  dados_suplementares_fis[key].to_csv(salvar_em+'/'+key+'.csv')"
      ],
      "execution_count": null,
      "outputs": [
        {
          "output_type": "stream",
          "name": "stdout",
          "text": [
            "os arquivos serão salvos em: /content/sample_data/Carteira Quant\n",
            "requisitando download : http://dados.cvm.gov.br/dados/FI/CAD/DADOS/cad_fi.csv\n",
            "requisitando download :  http://dados.cvm.gov.br/dados/FI/DOC/LAMINA/DADOS/lamina_fi_202109.zip\n"
          ]
        }
      ]
    }
  ]
}